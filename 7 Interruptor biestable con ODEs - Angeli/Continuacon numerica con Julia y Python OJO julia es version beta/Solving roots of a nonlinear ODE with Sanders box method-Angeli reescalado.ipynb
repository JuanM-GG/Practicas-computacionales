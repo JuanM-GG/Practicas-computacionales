{
 "cells": [
  {
   "cell_type": "markdown",
   "metadata": {},
   "source": [
    "## Load all the relevant packages"
   ]
  },
  {
   "cell_type": "code",
   "execution_count": 1,
   "metadata": {},
   "outputs": [],
   "source": [
    "using IntervalArithmetic"
   ]
  },
  {
   "cell_type": "code",
   "execution_count": 2,
   "metadata": {},
   "outputs": [],
   "source": [
    "using IntervalRootFinding"
   ]
  },
  {
   "cell_type": "code",
   "execution_count": 3,
   "metadata": {},
   "outputs": [],
   "source": [
    "using StaticArrays"
   ]
  },
  {
   "cell_type": "code",
   "execution_count": 4,
   "metadata": {},
   "outputs": [],
   "source": [
    "using DifferentialEquations"
   ]
  },
  {
   "cell_type": "code",
   "execution_count": 5,
   "metadata": {},
   "outputs": [
    {
     "ename": "LoadError",
     "evalue": "\u001b[91m\u001b[91munknown package ForwardDifff\u001b[39m\nmacro expansion at .\\pkg\\entry.jl:53 [inlined]\n(::Base.Pkg.Entry.##1#3{String,Base.Pkg.Types.VersionSet})() at .\\task.jl:335\u001b[39m",
     "output_type": "error",
     "traceback": [
      "\u001b[91m\u001b[91munknown package ForwardDifff\u001b[39m\nmacro expansion at .\\pkg\\entry.jl:53 [inlined]\n(::Base.Pkg.Entry.##1#3{String,Base.Pkg.Types.VersionSet})() at .\\task.jl:335\u001b[39m",
      "",
      "Stacktrace:",
      " [1] \u001b[1msync_end\u001b[22m\u001b[22m\u001b[1m(\u001b[22m\u001b[22m\u001b[1m)\u001b[22m\u001b[22m at \u001b[1m.\\task.jl:287\u001b[22m\u001b[22m",
      " [2] \u001b[1mmacro expansion\u001b[22m\u001b[22m at \u001b[1m.\\task.jl:303\u001b[22m\u001b[22m [inlined]",
      " [3] \u001b[1madd\u001b[22m\u001b[22m\u001b[1m(\u001b[22m\u001b[22m::String, ::Base.Pkg.Types.VersionSet\u001b[1m)\u001b[22m\u001b[22m at \u001b[1m.\\pkg\\entry.jl:51\u001b[22m\u001b[22m",
      " [4] \u001b[1m(::Base.Pkg.Dir.##4#7{Array{Any,1},Base.Pkg.Entry.#add,Tuple{String}})\u001b[22m\u001b[22m\u001b[1m(\u001b[22m\u001b[22m\u001b[1m)\u001b[22m\u001b[22m at \u001b[1m.\\pkg\\dir.jl:36\u001b[22m\u001b[22m",
      " [5] \u001b[1mcd\u001b[22m\u001b[22m\u001b[1m(\u001b[22m\u001b[22m::Base.Pkg.Dir.##4#7{Array{Any,1},Base.Pkg.Entry.#add,Tuple{String}}, ::String\u001b[1m)\u001b[22m\u001b[22m at \u001b[1m.\\file.jl:59\u001b[22m\u001b[22m",
      " [6] \u001b[1m#cd#1\u001b[22m\u001b[22m\u001b[1m(\u001b[22m\u001b[22m::Array{Any,1}, ::Function, ::Function, ::String, ::Vararg{String,N} where N\u001b[1m)\u001b[22m\u001b[22m at \u001b[1m.\\pkg\\dir.jl:36\u001b[22m\u001b[22m",
      " [7] \u001b[1madd\u001b[22m\u001b[22m\u001b[1m(\u001b[22m\u001b[22m::String\u001b[1m)\u001b[22m\u001b[22m at \u001b[1m.\\pkg\\pkg.jl:117\u001b[22m\u001b[22m"
     ]
    }
   ],
   "source": [
    "Pkg.add(\"ForwardDifff\")\n",
    "using ForwardDifff"
   ]
  },
  {
   "cell_type": "code",
   "execution_count": 12,
   "metadata": {},
   "outputs": [],
   "source": [
    "using Plots"
   ]
  },
  {
   "cell_type": "markdown",
   "metadata": {},
   "source": [
    "## Define the ODE to be analysed"
   ]
  },
  {
   "cell_type": "code",
   "execution_count": 6,
   "metadata": {},
   "outputs": [
    {
     "data": {
      "text/plain": [
       "Angeli2 (generic function with 1 method)"
      ]
     },
     "execution_count": 6,
     "metadata": {},
     "output_type": "execute_result"
    }
   ],
   "source": [
    "Angeli2(u, p) = SVector(\n",
    "    p[1]*(100-u[1])-p[2]*u[1]*(p[3]*u[2])^p[4]/(p[5]+(p[3]*u[2])^p[4]),\n",
    "    p[6]*(100-u[2])-p[7]*u[2]*u[1]^p[8]/(p[9]+u[1]^p[8])\n",
    "    )"
   ]
  },
  {
   "cell_type": "code",
   "execution_count": 7,
   "metadata": {},
   "outputs": [],
   "source": [
    "# set the parameters\n",
    "alpha1=1\n",
    "alpha2=1\n",
    "beta1=200\n",
    "beta2=10\n",
    "gamma1=4\n",
    "gamma2=4\n",
    "K1=30\n",
    "K2=1\n",
    "v=1\n",
    "\n",
    "p=[alpha1, beta1, v, gamma1, K1, alpha2, beta2, gamma2, K2]; \n"
   ]
  },
  {
   "cell_type": "markdown",
   "metadata": {},
   "source": [
    "## For each variable, create a matrix to put all the solutions (preallocate).  Since we don´t know the number of solutions we will get, make the matrix big enough"
   ]
  },
  {
   "cell_type": "code",
   "execution_count": 8,
   "metadata": {},
   "outputs": [
    {
     "data": {
      "text/plain": [
       "5×2001 Array{Float64,2}:\n",
       " NaN  NaN  NaN  NaN  NaN  NaN  NaN  NaN  …  NaN  NaN  NaN  NaN  NaN  NaN  NaN\n",
       " NaN  NaN  NaN  NaN  NaN  NaN  NaN  NaN     NaN  NaN  NaN  NaN  NaN  NaN  NaN\n",
       " NaN  NaN  NaN  NaN  NaN  NaN  NaN  NaN     NaN  NaN  NaN  NaN  NaN  NaN  NaN\n",
       " NaN  NaN  NaN  NaN  NaN  NaN  NaN  NaN     NaN  NaN  NaN  NaN  NaN  NaN  NaN\n",
       " NaN  NaN  NaN  NaN  NaN  NaN  NaN  NaN     NaN  NaN  NaN  NaN  NaN  NaN  NaN"
      ]
     },
     "execution_count": 8,
     "metadata": {},
     "output_type": "execute_result"
    }
   ],
   "source": [
    "x1_matrix=NaN*ones(5,2001); #create a matrix to put at most 5 solutions of \n",
    "y1_matrix=NaN*ones(5,2001); #create a matrix to put at most 5 solutions of "
   ]
  },
  {
   "cell_type": "markdown",
   "metadata": {},
   "source": [
    "## Let's start!!! "
   ]
  },
  {
   "cell_type": "code",
   "execution_count": 14,
   "metadata": {},
   "outputs": [],
   "source": [
    "counter=1; # initialize the counter\n",
    "\n",
    "for v in 0:0.005:1 #this is our bifurcation parameter. \n",
    "  \n",
    "    p=[alpha1, beta1, v, gamma1, K1, alpha2, beta2, gamma2, K2]; #update parameter vector\n",
    "    \n",
    "    X = IntervalBox(0..100, 2) # create the interval box in the phase plane. in this case, it is a 2d box. \n",
    "    # should be as big as state space to make sure we are not missing any solutions \n",
    "    \n",
    "    aa=roots(u->Angeli2(u, p), X) #compute all the roots MAGIC! \n",
    "    #output of this fantastic code are small boxes (intervals) with contain the solutions. \n",
    "    \n",
    "    #Since we want to get not an interval, but a real number, we need to take the middle value:\n",
    "    \n",
    "    mids = mid.([rt.interval for rt in aa]) #take the middle value for the roots in the boxes\n",
    "    \n",
    "    count_dif_sols=1\n",
    "    # now, it is possible that we get several boxes. this can be because (1) we have several solutions (which we expect, \n",
    "    # at least for some parameter values), or because the boxes spit out by the roots function are too small, i.e. thery are finding\n",
    "    # effectively the same root just with differnt \"names\" so to say. we shall filter out this second option in the following:\n",
    "    #and fill our matrices  \n",
    "    for sol in 1:length(mids)\n",
    "        \n",
    "        if (sol==1)\n",
    "        x1_matrix[count_dif_sols,counter]= mids[sol][1]\n",
    "        y1_matrix[count_dif_sols,counter]= mids[sol][2]\n",
    "         count_dif_sols=count_dif_sols+1   \n",
    "        else\n",
    "            if (abs(mids[sol][1]-mids[sol-1][1])>0.001)\n",
    "        x1_matrix[count_dif_sols,counter]= mids[sol][1]\n",
    "        y1_matrix[count_dif_sols,counter]= mids[sol][2]\n",
    "         count_dif_sols=count_dif_sols+1  \n",
    "            end\n",
    "        end\n",
    "    end\n",
    "    counter=counter+1  \n",
    "end\n",
    "    \n"
   ]
  },
  {
   "cell_type": "markdown",
   "metadata": {},
   "source": [
    "## yeii! we are ready. let's plot our results."
   ]
  },
  {
   "cell_type": "code",
   "execution_count": 15,
   "metadata": {},
   "outputs": [
    {
     "data": {
      "image/svg+xml": [
       "<?xml version=\"1.0\" encoding=\"utf-8\"?>\n",
       "<svg xmlns=\"http://www.w3.org/2000/svg\" xmlns:xlink=\"http://www.w3.org/1999/xlink\" width=\"600\" height=\"400\" viewBox=\"0 0 600 400\">\n",
       "<defs>\n",
       "  <clipPath id=\"clip9000\">\n",
       "    <rect x=\"0\" y=\"0\" width=\"600\" height=\"400\"/>\n",
       "  </clipPath>\n",
       "</defs>\n",
       "<polygon clip-path=\"url(#clip9000)\" points=\"\n",
       "0,400 600,400 600,0 0,0 \n",
       "  \" fill=\"#ffffff\" fill-opacity=\"1\"/>\n",
       "<defs>\n",
       "  <clipPath id=\"clip9001\">\n",
       "    <rect x=\"120\" y=\"0\" width=\"421\" height=\"400\"/>\n",
       "  </clipPath>\n",
       "</defs>\n",
       "<polygon clip-path=\"url(#clip9000)\" points=\"\n",
       "44.8772,360.121 580.315,360.121 580.315,31.4961 44.8772,31.4961 \n",
       "  \" fill=\"#ffffff\" fill-opacity=\"1\"/>\n",
       "<defs>\n",
       "  <clipPath id=\"clip9002\">\n",
       "    <rect x=\"44\" y=\"31\" width=\"536\" height=\"330\"/>\n",
       "  </clipPath>\n",
       "</defs>\n",
       "<polyline clip-path=\"url(#clip9002)\" style=\"stroke:#000000; stroke-width:0.5; stroke-opacity:0.1; fill:none\" points=\"\n",
       "  44.8772,360.121 44.8772,31.4961 \n",
       "  \"/>\n",
       "<polyline clip-path=\"url(#clip9002)\" style=\"stroke:#000000; stroke-width:0.5; stroke-opacity:0.1; fill:none\" points=\"\n",
       "  259.052,360.121 259.052,31.4961 \n",
       "  \"/>\n",
       "<polyline clip-path=\"url(#clip9002)\" style=\"stroke:#000000; stroke-width:0.5; stroke-opacity:0.1; fill:none\" points=\"\n",
       "  473.227,360.121 473.227,31.4961 \n",
       "  \"/>\n",
       "<polyline clip-path=\"url(#clip9002)\" style=\"stroke:#000000; stroke-width:0.5; stroke-opacity:0.1; fill:none\" points=\"\n",
       "  44.8772,345.63 580.315,345.63 \n",
       "  \"/>\n",
       "<polyline clip-path=\"url(#clip9002)\" style=\"stroke:#000000; stroke-width:0.5; stroke-opacity:0.1; fill:none\" points=\"\n",
       "  44.8772,288.545 580.315,288.545 \n",
       "  \"/>\n",
       "<polyline clip-path=\"url(#clip9002)\" style=\"stroke:#000000; stroke-width:0.5; stroke-opacity:0.1; fill:none\" points=\"\n",
       "  44.8772,231.46 580.315,231.46 \n",
       "  \"/>\n",
       "<polyline clip-path=\"url(#clip9002)\" style=\"stroke:#000000; stroke-width:0.5; stroke-opacity:0.1; fill:none\" points=\"\n",
       "  44.8772,174.375 580.315,174.375 \n",
       "  \"/>\n",
       "<polyline clip-path=\"url(#clip9002)\" style=\"stroke:#000000; stroke-width:0.5; stroke-opacity:0.1; fill:none\" points=\"\n",
       "  44.8772,117.29 580.315,117.29 \n",
       "  \"/>\n",
       "<polyline clip-path=\"url(#clip9002)\" style=\"stroke:#000000; stroke-width:0.5; stroke-opacity:0.1; fill:none\" points=\"\n",
       "  44.8772,60.2048 580.315,60.2048 \n",
       "  \"/>\n",
       "<polyline clip-path=\"url(#clip9000)\" style=\"stroke:#000000; stroke-width:1; stroke-opacity:1; fill:none\" points=\"\n",
       "  44.8772,360.121 580.315,360.121 \n",
       "  \"/>\n",
       "<polyline clip-path=\"url(#clip9000)\" style=\"stroke:#000000; stroke-width:1; stroke-opacity:1; fill:none\" points=\"\n",
       "  44.8772,360.121 44.8772,31.4961 \n",
       "  \"/>\n",
       "<polyline clip-path=\"url(#clip9000)\" style=\"stroke:#000000; stroke-width:1; stroke-opacity:1; fill:none\" points=\"\n",
       "  44.8772,360.121 44.8772,355.191 \n",
       "  \"/>\n",
       "<polyline clip-path=\"url(#clip9000)\" style=\"stroke:#000000; stroke-width:1; stroke-opacity:1; fill:none\" points=\"\n",
       "  259.052,360.121 259.052,355.191 \n",
       "  \"/>\n",
       "<polyline clip-path=\"url(#clip9000)\" style=\"stroke:#000000; stroke-width:1; stroke-opacity:1; fill:none\" points=\"\n",
       "  473.227,360.121 473.227,355.191 \n",
       "  \"/>\n",
       "<polyline clip-path=\"url(#clip9000)\" style=\"stroke:#000000; stroke-width:1; stroke-opacity:1; fill:none\" points=\"\n",
       "  44.8772,345.63 52.9088,345.63 \n",
       "  \"/>\n",
       "<polyline clip-path=\"url(#clip9000)\" style=\"stroke:#000000; stroke-width:1; stroke-opacity:1; fill:none\" points=\"\n",
       "  44.8772,288.545 52.9088,288.545 \n",
       "  \"/>\n",
       "<polyline clip-path=\"url(#clip9000)\" style=\"stroke:#000000; stroke-width:1; stroke-opacity:1; fill:none\" points=\"\n",
       "  44.8772,231.46 52.9088,231.46 \n",
       "  \"/>\n",
       "<polyline clip-path=\"url(#clip9000)\" style=\"stroke:#000000; stroke-width:1; stroke-opacity:1; fill:none\" points=\"\n",
       "  44.8772,174.375 52.9088,174.375 \n",
       "  \"/>\n",
       "<polyline clip-path=\"url(#clip9000)\" style=\"stroke:#000000; stroke-width:1; stroke-opacity:1; fill:none\" points=\"\n",
       "  44.8772,117.29 52.9088,117.29 \n",
       "  \"/>\n",
       "<polyline clip-path=\"url(#clip9000)\" style=\"stroke:#000000; stroke-width:1; stroke-opacity:1; fill:none\" points=\"\n",
       "  44.8772,60.2048 52.9088,60.2048 \n",
       "  \"/>\n",
       "<g clip-path=\"url(#clip9000)\">\n",
       "<text style=\"fill:#000000; fill-opacity:1; font-family:Arial,Helvetica Neue,Helvetica,sans-serif; font-size:12; text-anchor:middle;\" transform=\"rotate(0, 44.8772, 373.921)\" x=\"44.8772\" y=\"373.921\">0.0</text>\n",
       "</g>\n",
       "<g clip-path=\"url(#clip9000)\">\n",
       "<text style=\"fill:#000000; fill-opacity:1; font-family:Arial,Helvetica Neue,Helvetica,sans-serif; font-size:12; text-anchor:middle;\" transform=\"rotate(0, 259.052, 373.921)\" x=\"259.052\" y=\"373.921\">0.1</text>\n",
       "</g>\n",
       "<g clip-path=\"url(#clip9000)\">\n",
       "<text style=\"fill:#000000; fill-opacity:1; font-family:Arial,Helvetica Neue,Helvetica,sans-serif; font-size:12; text-anchor:middle;\" transform=\"rotate(0, 473.227, 373.921)\" x=\"473.227\" y=\"373.921\">0.2</text>\n",
       "</g>\n",
       "<g clip-path=\"url(#clip9000)\">\n",
       "<text style=\"fill:#000000; fill-opacity:1; font-family:Arial,Helvetica Neue,Helvetica,sans-serif; font-size:12; text-anchor:end;\" transform=\"rotate(0, 38.8772, 350.13)\" x=\"38.8772\" y=\"350.13\">10</text>\n",
       "</g>\n",
       "<g clip-path=\"url(#clip9000)\">\n",
       "<text style=\"fill:#000000; fill-opacity:1; font-family:Arial,Helvetica Neue,Helvetica,sans-serif; font-size:12; text-anchor:end;\" transform=\"rotate(0, 38.8772, 293.045)\" x=\"38.8772\" y=\"293.045\">20</text>\n",
       "</g>\n",
       "<g clip-path=\"url(#clip9000)\">\n",
       "<text style=\"fill:#000000; fill-opacity:1; font-family:Arial,Helvetica Neue,Helvetica,sans-serif; font-size:12; text-anchor:end;\" transform=\"rotate(0, 38.8772, 235.96)\" x=\"38.8772\" y=\"235.96\">30</text>\n",
       "</g>\n",
       "<g clip-path=\"url(#clip9000)\">\n",
       "<text style=\"fill:#000000; fill-opacity:1; font-family:Arial,Helvetica Neue,Helvetica,sans-serif; font-size:12; text-anchor:end;\" transform=\"rotate(0, 38.8772, 178.875)\" x=\"38.8772\" y=\"178.875\">40</text>\n",
       "</g>\n",
       "<g clip-path=\"url(#clip9000)\">\n",
       "<text style=\"fill:#000000; fill-opacity:1; font-family:Arial,Helvetica Neue,Helvetica,sans-serif; font-size:12; text-anchor:end;\" transform=\"rotate(0, 38.8772, 121.79)\" x=\"38.8772\" y=\"121.79\">50</text>\n",
       "</g>\n",
       "<g clip-path=\"url(#clip9000)\">\n",
       "<text style=\"fill:#000000; fill-opacity:1; font-family:Arial,Helvetica Neue,Helvetica,sans-serif; font-size:12; text-anchor:end;\" transform=\"rotate(0, 38.8772, 64.7048)\" x=\"38.8772\" y=\"64.7048\">60</text>\n",
       "</g>\n",
       "<g clip-path=\"url(#clip9000)\">\n",
       "<text style=\"fill:#000000; fill-opacity:1; font-family:Arial,Helvetica Neue,Helvetica,sans-serif; font-size:21; text-anchor:middle;\" transform=\"rotate(0, 312.596, 18)\" x=\"312.596\" y=\"18\">Findig roots of Angeli function using Sanders&apos; box method</text>\n",
       "</g>\n",
       "<g clip-path=\"url(#clip9000)\">\n",
       "<text style=\"fill:#000000; fill-opacity:1; font-family:Arial,Helvetica Neue,Helvetica,sans-serif; font-size:16; text-anchor:middle;\" transform=\"rotate(0, 312.596, 397.6)\" x=\"312.596\" y=\"397.6\">v bifurcaton parameter</text>\n",
       "</g>\n",
       "<g clip-path=\"url(#clip9000)\">\n",
       "<text style=\"fill:#000000; fill-opacity:1; font-family:Arial,Helvetica Neue,Helvetica,sans-serif; font-size:16; text-anchor:middle;\" transform=\"rotate(-90, 14.4, 195.808)\" x=\"14.4\" y=\"195.808\">yss</text>\n",
       "</g>\n",
       "<circle clip-path=\"url(#clip9002)\" style=\"fill:#000000; stroke:none; fill-opacity:1\" cx=\"44.8772\" cy=\"350.82\" r=\"4\"/>\n",
       "<circle clip-path=\"url(#clip9002)\" style=\"fill:#009af9; stroke:none; fill-opacity:1\" cx=\"44.8772\" cy=\"350.82\" r=\"3\"/>\n",
       "<circle clip-path=\"url(#clip9002)\" style=\"fill:#000000; stroke:none; fill-opacity:1\" cx=\"55.586\" cy=\"350.82\" r=\"4\"/>\n",
       "<circle clip-path=\"url(#clip9002)\" style=\"fill:#009af9; stroke:none; fill-opacity:1\" cx=\"55.586\" cy=\"350.82\" r=\"3\"/>\n",
       "<circle clip-path=\"url(#clip9002)\" style=\"fill:#000000; stroke:none; fill-opacity:1\" cx=\"66.2947\" cy=\"350.82\" r=\"4\"/>\n",
       "<circle clip-path=\"url(#clip9002)\" style=\"fill:#009af9; stroke:none; fill-opacity:1\" cx=\"66.2947\" cy=\"350.82\" r=\"3\"/>\n",
       "<circle clip-path=\"url(#clip9002)\" style=\"fill:#000000; stroke:none; fill-opacity:1\" cx=\"77.0035\" cy=\"350.82\" r=\"4\"/>\n",
       "<circle clip-path=\"url(#clip9002)\" style=\"fill:#009af9; stroke:none; fill-opacity:1\" cx=\"77.0035\" cy=\"350.82\" r=\"3\"/>\n",
       "<circle clip-path=\"url(#clip9002)\" style=\"fill:#000000; stroke:none; fill-opacity:1\" cx=\"87.7123\" cy=\"350.82\" r=\"4\"/>\n",
       "<circle clip-path=\"url(#clip9002)\" style=\"fill:#009af9; stroke:none; fill-opacity:1\" cx=\"87.7123\" cy=\"350.82\" r=\"3\"/>\n",
       "<circle clip-path=\"url(#clip9002)\" style=\"fill:#000000; stroke:none; fill-opacity:1\" cx=\"98.421\" cy=\"350.82\" r=\"4\"/>\n",
       "<circle clip-path=\"url(#clip9002)\" style=\"fill:#009af9; stroke:none; fill-opacity:1\" cx=\"98.421\" cy=\"350.82\" r=\"3\"/>\n",
       "<circle clip-path=\"url(#clip9002)\" style=\"fill:#000000; stroke:none; fill-opacity:1\" cx=\"109.13\" cy=\"350.82\" r=\"4\"/>\n",
       "<circle clip-path=\"url(#clip9002)\" style=\"fill:#009af9; stroke:none; fill-opacity:1\" cx=\"109.13\" cy=\"350.82\" r=\"3\"/>\n",
       "<circle clip-path=\"url(#clip9002)\" style=\"fill:#000000; stroke:none; fill-opacity:1\" cx=\"119.839\" cy=\"350.82\" r=\"4\"/>\n",
       "<circle clip-path=\"url(#clip9002)\" style=\"fill:#009af9; stroke:none; fill-opacity:1\" cx=\"119.839\" cy=\"350.82\" r=\"3\"/>\n",
       "<circle clip-path=\"url(#clip9002)\" style=\"fill:#000000; stroke:none; fill-opacity:1\" cx=\"130.547\" cy=\"350.82\" r=\"4\"/>\n",
       "<circle clip-path=\"url(#clip9002)\" style=\"fill:#009af9; stroke:none; fill-opacity:1\" cx=\"130.547\" cy=\"350.82\" r=\"3\"/>\n",
       "<circle clip-path=\"url(#clip9002)\" style=\"fill:#000000; stroke:none; fill-opacity:1\" cx=\"141.256\" cy=\"350.82\" r=\"4\"/>\n",
       "<circle clip-path=\"url(#clip9002)\" style=\"fill:#009af9; stroke:none; fill-opacity:1\" cx=\"141.256\" cy=\"350.82\" r=\"3\"/>\n",
       "<circle clip-path=\"url(#clip9002)\" style=\"fill:#000000; stroke:none; fill-opacity:1\" cx=\"151.965\" cy=\"350.82\" r=\"4\"/>\n",
       "<circle clip-path=\"url(#clip9002)\" style=\"fill:#009af9; stroke:none; fill-opacity:1\" cx=\"151.965\" cy=\"350.82\" r=\"3\"/>\n",
       "<circle clip-path=\"url(#clip9002)\" style=\"fill:#000000; stroke:none; fill-opacity:1\" cx=\"162.674\" cy=\"350.82\" r=\"4\"/>\n",
       "<circle clip-path=\"url(#clip9002)\" style=\"fill:#009af9; stroke:none; fill-opacity:1\" cx=\"162.674\" cy=\"350.82\" r=\"3\"/>\n",
       "<circle clip-path=\"url(#clip9002)\" style=\"fill:#000000; stroke:none; fill-opacity:1\" cx=\"173.382\" cy=\"350.82\" r=\"4\"/>\n",
       "<circle clip-path=\"url(#clip9002)\" style=\"fill:#009af9; stroke:none; fill-opacity:1\" cx=\"173.382\" cy=\"350.82\" r=\"3\"/>\n",
       "<circle clip-path=\"url(#clip9002)\" style=\"fill:#000000; stroke:none; fill-opacity:1\" cx=\"184.091\" cy=\"350.82\" r=\"4\"/>\n",
       "<circle clip-path=\"url(#clip9002)\" style=\"fill:#009af9; stroke:none; fill-opacity:1\" cx=\"184.091\" cy=\"350.82\" r=\"3\"/>\n",
       "<circle clip-path=\"url(#clip9002)\" style=\"fill:#000000; stroke:none; fill-opacity:1\" cx=\"194.8\" cy=\"350.82\" r=\"4\"/>\n",
       "<circle clip-path=\"url(#clip9002)\" style=\"fill:#009af9; stroke:none; fill-opacity:1\" cx=\"194.8\" cy=\"350.82\" r=\"3\"/>\n",
       "<circle clip-path=\"url(#clip9002)\" style=\"fill:#000000; stroke:none; fill-opacity:1\" cx=\"205.509\" cy=\"95.2325\" r=\"4\"/>\n",
       "<circle clip-path=\"url(#clip9002)\" style=\"fill:#009af9; stroke:none; fill-opacity:1\" cx=\"205.509\" cy=\"95.2325\" r=\"3\"/>\n",
       "<circle clip-path=\"url(#clip9002)\" style=\"fill:#000000; stroke:none; fill-opacity:1\" cx=\"216.217\" cy=\"73.1265\" r=\"4\"/>\n",
       "<circle clip-path=\"url(#clip9002)\" style=\"fill:#009af9; stroke:none; fill-opacity:1\" cx=\"216.217\" cy=\"73.1265\" r=\"3\"/>\n",
       "<circle clip-path=\"url(#clip9002)\" style=\"fill:#000000; stroke:none; fill-opacity:1\" cx=\"226.926\" cy=\"63.5207\" r=\"4\"/>\n",
       "<circle clip-path=\"url(#clip9002)\" style=\"fill:#009af9; stroke:none; fill-opacity:1\" cx=\"226.926\" cy=\"63.5207\" r=\"3\"/>\n",
       "<circle clip-path=\"url(#clip9002)\" style=\"fill:#000000; stroke:none; fill-opacity:1\" cx=\"237.635\" cy=\"57.7356\" r=\"4\"/>\n",
       "<circle clip-path=\"url(#clip9002)\" style=\"fill:#009af9; stroke:none; fill-opacity:1\" cx=\"237.635\" cy=\"57.7356\" r=\"3\"/>\n",
       "<circle clip-path=\"url(#clip9002)\" style=\"fill:#000000; stroke:none; fill-opacity:1\" cx=\"248.344\" cy=\"53.8647\" r=\"4\"/>\n",
       "<circle clip-path=\"url(#clip9002)\" style=\"fill:#009af9; stroke:none; fill-opacity:1\" cx=\"248.344\" cy=\"53.8647\" r=\"3\"/>\n",
       "<circle clip-path=\"url(#clip9002)\" style=\"fill:#000000; stroke:none; fill-opacity:1\" cx=\"259.052\" cy=\"51.1221\" r=\"4\"/>\n",
       "<circle clip-path=\"url(#clip9002)\" style=\"fill:#009af9; stroke:none; fill-opacity:1\" cx=\"259.052\" cy=\"51.1221\" r=\"3\"/>\n",
       "<circle clip-path=\"url(#clip9002)\" style=\"fill:#000000; stroke:none; fill-opacity:1\" cx=\"269.761\" cy=\"49.0321\" r=\"4\"/>\n",
       "<circle clip-path=\"url(#clip9002)\" style=\"fill:#009af9; stroke:none; fill-opacity:1\" cx=\"269.761\" cy=\"49.0321\" r=\"3\"/>\n",
       "<circle clip-path=\"url(#clip9002)\" style=\"fill:#000000; stroke:none; fill-opacity:1\" cx=\"280.47\" cy=\"47.5792\" r=\"4\"/>\n",
       "<circle clip-path=\"url(#clip9002)\" style=\"fill:#009af9; stroke:none; fill-opacity:1\" cx=\"280.47\" cy=\"47.5792\" r=\"3\"/>\n",
       "<circle clip-path=\"url(#clip9002)\" style=\"fill:#000000; stroke:none; fill-opacity:1\" cx=\"291.179\" cy=\"46.4014\" r=\"4\"/>\n",
       "<circle clip-path=\"url(#clip9002)\" style=\"fill:#009af9; stroke:none; fill-opacity:1\" cx=\"291.179\" cy=\"46.4014\" r=\"3\"/>\n",
       "<circle clip-path=\"url(#clip9002)\" style=\"fill:#000000; stroke:none; fill-opacity:1\" cx=\"301.887\" cy=\"45.4764\" r=\"4\"/>\n",
       "<circle clip-path=\"url(#clip9002)\" style=\"fill:#009af9; stroke:none; fill-opacity:1\" cx=\"301.887\" cy=\"45.4764\" r=\"3\"/>\n",
       "<circle clip-path=\"url(#clip9002)\" style=\"fill:#000000; stroke:none; fill-opacity:1\" cx=\"312.596\" cy=\"44.7394\" r=\"4\"/>\n",
       "<circle clip-path=\"url(#clip9002)\" style=\"fill:#009af9; stroke:none; fill-opacity:1\" cx=\"312.596\" cy=\"44.7394\" r=\"3\"/>\n",
       "<circle clip-path=\"url(#clip9002)\" style=\"fill:#000000; stroke:none; fill-opacity:1\" cx=\"323.305\" cy=\"44.1451\" r=\"4\"/>\n",
       "<circle clip-path=\"url(#clip9002)\" style=\"fill:#009af9; stroke:none; fill-opacity:1\" cx=\"323.305\" cy=\"44.1451\" r=\"3\"/>\n",
       "<circle clip-path=\"url(#clip9002)\" style=\"fill:#000000; stroke:none; fill-opacity:1\" cx=\"334.014\" cy=\"43.6606\" r=\"4\"/>\n",
       "<circle clip-path=\"url(#clip9002)\" style=\"fill:#009af9; stroke:none; fill-opacity:1\" cx=\"334.014\" cy=\"43.6606\" r=\"3\"/>\n",
       "<circle clip-path=\"url(#clip9002)\" style=\"fill:#000000; stroke:none; fill-opacity:1\" cx=\"344.722\" cy=\"43.2621\" r=\"4\"/>\n",
       "<circle clip-path=\"url(#clip9002)\" style=\"fill:#009af9; stroke:none; fill-opacity:1\" cx=\"344.722\" cy=\"43.2621\" r=\"3\"/>\n",
       "<circle clip-path=\"url(#clip9002)\" style=\"fill:#000000; stroke:none; fill-opacity:1\" cx=\"355.431\" cy=\"42.8655\" r=\"4\"/>\n",
       "<circle clip-path=\"url(#clip9002)\" style=\"fill:#009af9; stroke:none; fill-opacity:1\" cx=\"355.431\" cy=\"42.8655\" r=\"3\"/>\n",
       "<circle clip-path=\"url(#clip9002)\" style=\"fill:#000000; stroke:none; fill-opacity:1\" cx=\"366.14\" cy=\"42.655\" r=\"4\"/>\n",
       "<circle clip-path=\"url(#clip9002)\" style=\"fill:#009af9; stroke:none; fill-opacity:1\" cx=\"366.14\" cy=\"42.655\" r=\"3\"/>\n",
       "<circle clip-path=\"url(#clip9002)\" style=\"fill:#000000; stroke:none; fill-opacity:1\" cx=\"376.849\" cy=\"42.4223\" r=\"4\"/>\n",
       "<circle clip-path=\"url(#clip9002)\" style=\"fill:#009af9; stroke:none; fill-opacity:1\" cx=\"376.849\" cy=\"42.4223\" r=\"3\"/>\n",
       "<circle clip-path=\"url(#clip9002)\" style=\"fill:#000000; stroke:none; fill-opacity:1\" cx=\"387.557\" cy=\"42.2253\" r=\"4\"/>\n",
       "<circle clip-path=\"url(#clip9002)\" style=\"fill:#009af9; stroke:none; fill-opacity:1\" cx=\"387.557\" cy=\"42.2253\" r=\"3\"/>\n",
       "<circle clip-path=\"url(#clip9002)\" style=\"fill:#000000; stroke:none; fill-opacity:1\" cx=\"398.266\" cy=\"42.0575\" r=\"4\"/>\n",
       "<circle clip-path=\"url(#clip9002)\" style=\"fill:#009af9; stroke:none; fill-opacity:1\" cx=\"398.266\" cy=\"42.0575\" r=\"3\"/>\n",
       "<circle clip-path=\"url(#clip9002)\" style=\"fill:#000000; stroke:none; fill-opacity:1\" cx=\"408.975\" cy=\"41.9137\" r=\"4\"/>\n",
       "<circle clip-path=\"url(#clip9002)\" style=\"fill:#009af9; stroke:none; fill-opacity:1\" cx=\"408.975\" cy=\"41.9137\" r=\"3\"/>\n",
       "<circle clip-path=\"url(#clip9002)\" style=\"fill:#000000; stroke:none; fill-opacity:1\" cx=\"419.684\" cy=\"41.79\" r=\"4\"/>\n",
       "<circle clip-path=\"url(#clip9002)\" style=\"fill:#009af9; stroke:none; fill-opacity:1\" cx=\"419.684\" cy=\"41.79\" r=\"3\"/>\n",
       "<circle clip-path=\"url(#clip9002)\" style=\"fill:#000000; stroke:none; fill-opacity:1\" cx=\"430.392\" cy=\"41.6822\" r=\"4\"/>\n",
       "<circle clip-path=\"url(#clip9002)\" style=\"fill:#009af9; stroke:none; fill-opacity:1\" cx=\"430.392\" cy=\"41.6822\" r=\"3\"/>\n",
       "<circle clip-path=\"url(#clip9002)\" style=\"fill:#000000; stroke:none; fill-opacity:1\" cx=\"441.101\" cy=\"41.5901\" r=\"4\"/>\n",
       "<circle clip-path=\"url(#clip9002)\" style=\"fill:#009af9; stroke:none; fill-opacity:1\" cx=\"441.101\" cy=\"41.5901\" r=\"3\"/>\n",
       "<circle clip-path=\"url(#clip9002)\" style=\"fill:#000000; stroke:none; fill-opacity:1\" cx=\"451.81\" cy=\"41.5091\" r=\"4\"/>\n",
       "<circle clip-path=\"url(#clip9002)\" style=\"fill:#009af9; stroke:none; fill-opacity:1\" cx=\"451.81\" cy=\"41.5091\" r=\"3\"/>\n",
       "<circle clip-path=\"url(#clip9002)\" style=\"fill:#000000; stroke:none; fill-opacity:1\" cx=\"462.519\" cy=\"41.4382\" r=\"4\"/>\n",
       "<circle clip-path=\"url(#clip9002)\" style=\"fill:#009af9; stroke:none; fill-opacity:1\" cx=\"462.519\" cy=\"41.4382\" r=\"3\"/>\n",
       "<circle clip-path=\"url(#clip9002)\" style=\"fill:#000000; stroke:none; fill-opacity:1\" cx=\"473.227\" cy=\"41.376\" r=\"4\"/>\n",
       "<circle clip-path=\"url(#clip9002)\" style=\"fill:#009af9; stroke:none; fill-opacity:1\" cx=\"473.227\" cy=\"41.376\" r=\"3\"/>\n",
       "<circle clip-path=\"url(#clip9002)\" style=\"fill:#000000; stroke:none; fill-opacity:1\" cx=\"483.936\" cy=\"41.3211\" r=\"4\"/>\n",
       "<circle clip-path=\"url(#clip9002)\" style=\"fill:#009af9; stroke:none; fill-opacity:1\" cx=\"483.936\" cy=\"41.3211\" r=\"3\"/>\n",
       "<circle clip-path=\"url(#clip9002)\" style=\"fill:#000000; stroke:none; fill-opacity:1\" cx=\"494.645\" cy=\"41.2726\" r=\"4\"/>\n",
       "<circle clip-path=\"url(#clip9002)\" style=\"fill:#009af9; stroke:none; fill-opacity:1\" cx=\"494.645\" cy=\"41.2726\" r=\"3\"/>\n",
       "<circle clip-path=\"url(#clip9002)\" style=\"fill:#000000; stroke:none; fill-opacity:1\" cx=\"505.354\" cy=\"41.2296\" r=\"4\"/>\n",
       "<circle clip-path=\"url(#clip9002)\" style=\"fill:#009af9; stroke:none; fill-opacity:1\" cx=\"505.354\" cy=\"41.2296\" r=\"3\"/>\n",
       "<circle clip-path=\"url(#clip9002)\" style=\"fill:#000000; stroke:none; fill-opacity:1\" cx=\"516.062\" cy=\"41.1764\" r=\"4\"/>\n",
       "<circle clip-path=\"url(#clip9002)\" style=\"fill:#009af9; stroke:none; fill-opacity:1\" cx=\"516.062\" cy=\"41.1764\" r=\"3\"/>\n",
       "<circle clip-path=\"url(#clip9002)\" style=\"fill:#000000; stroke:none; fill-opacity:1\" cx=\"526.771\" cy=\"41.1572\" r=\"4\"/>\n",
       "<circle clip-path=\"url(#clip9002)\" style=\"fill:#009af9; stroke:none; fill-opacity:1\" cx=\"526.771\" cy=\"41.1572\" r=\"3\"/>\n",
       "<circle clip-path=\"url(#clip9002)\" style=\"fill:#000000; stroke:none; fill-opacity:1\" cx=\"537.48\" cy=\"41.1246\" r=\"4\"/>\n",
       "<circle clip-path=\"url(#clip9002)\" style=\"fill:#009af9; stroke:none; fill-opacity:1\" cx=\"537.48\" cy=\"41.1246\" r=\"3\"/>\n",
       "<circle clip-path=\"url(#clip9002)\" style=\"fill:#000000; stroke:none; fill-opacity:1\" cx=\"548.189\" cy=\"41.0993\" r=\"4\"/>\n",
       "<circle clip-path=\"url(#clip9002)\" style=\"fill:#009af9; stroke:none; fill-opacity:1\" cx=\"548.189\" cy=\"41.0993\" r=\"3\"/>\n",
       "<circle clip-path=\"url(#clip9002)\" style=\"fill:#000000; stroke:none; fill-opacity:1\" cx=\"558.897\" cy=\"41.0747\" r=\"4\"/>\n",
       "<circle clip-path=\"url(#clip9002)\" style=\"fill:#009af9; stroke:none; fill-opacity:1\" cx=\"558.897\" cy=\"41.0747\" r=\"3\"/>\n",
       "<circle clip-path=\"url(#clip9002)\" style=\"fill:#000000; stroke:none; fill-opacity:1\" cx=\"569.606\" cy=\"41.0361\" r=\"4\"/>\n",
       "<circle clip-path=\"url(#clip9002)\" style=\"fill:#009af9; stroke:none; fill-opacity:1\" cx=\"569.606\" cy=\"41.0361\" r=\"3\"/>\n",
       "<circle clip-path=\"url(#clip9002)\" style=\"fill:#000000; stroke:none; fill-opacity:1\" cx=\"580.315\" cy=\"41.0326\" r=\"4\"/>\n",
       "<circle clip-path=\"url(#clip9002)\" style=\"fill:#009af9; stroke:none; fill-opacity:1\" cx=\"580.315\" cy=\"41.0326\" r=\"3\"/>\n",
       "<circle clip-path=\"url(#clip9002)\" style=\"fill:#000000; stroke:none; fill-opacity:1\" cx=\"130.547\" cy=\"350.82\" r=\"4\"/>\n",
       "<circle clip-path=\"url(#clip9002)\" style=\"fill:#e26f46; stroke:none; fill-opacity:1\" cx=\"130.547\" cy=\"350.82\" r=\"3\"/>\n",
       "<circle clip-path=\"url(#clip9002)\" style=\"fill:#000000; stroke:none; fill-opacity:1\" cx=\"141.256\" cy=\"350.82\" r=\"4\"/>\n",
       "<circle clip-path=\"url(#clip9002)\" style=\"fill:#e26f46; stroke:none; fill-opacity:1\" cx=\"141.256\" cy=\"350.82\" r=\"3\"/>\n",
       "<circle clip-path=\"url(#clip9002)\" style=\"fill:#000000; stroke:none; fill-opacity:1\" cx=\"151.965\" cy=\"249.405\" r=\"4\"/>\n",
       "<circle clip-path=\"url(#clip9002)\" style=\"fill:#e26f46; stroke:none; fill-opacity:1\" cx=\"151.965\" cy=\"249.405\" r=\"3\"/>\n",
       "<circle clip-path=\"url(#clip9002)\" style=\"fill:#000000; stroke:none; fill-opacity:1\" cx=\"162.674\" cy=\"350.818\" r=\"4\"/>\n",
       "<circle clip-path=\"url(#clip9002)\" style=\"fill:#e26f46; stroke:none; fill-opacity:1\" cx=\"162.674\" cy=\"350.818\" r=\"3\"/>\n",
       "<circle clip-path=\"url(#clip9002)\" style=\"fill:#000000; stroke:none; fill-opacity:1\" cx=\"173.382\" cy=\"284.726\" r=\"4\"/>\n",
       "<circle clip-path=\"url(#clip9002)\" style=\"fill:#e26f46; stroke:none; fill-opacity:1\" cx=\"173.382\" cy=\"284.726\" r=\"3\"/>\n",
       "<circle clip-path=\"url(#clip9002)\" style=\"fill:#000000; stroke:none; fill-opacity:1\" cx=\"184.091\" cy=\"297.324\" r=\"4\"/>\n",
       "<circle clip-path=\"url(#clip9002)\" style=\"fill:#e26f46; stroke:none; fill-opacity:1\" cx=\"184.091\" cy=\"297.324\" r=\"3\"/>\n",
       "<circle clip-path=\"url(#clip9002)\" style=\"fill:#000000; stroke:none; fill-opacity:1\" cx=\"194.8\" cy=\"307.845\" r=\"4\"/>\n",
       "<circle clip-path=\"url(#clip9002)\" style=\"fill:#e26f46; stroke:none; fill-opacity:1\" cx=\"194.8\" cy=\"307.845\" r=\"3\"/>\n",
       "<circle clip-path=\"url(#clip9002)\" style=\"fill:#000000; stroke:none; fill-opacity:1\" cx=\"205.509\" cy=\"350.82\" r=\"4\"/>\n",
       "<circle clip-path=\"url(#clip9002)\" style=\"fill:#e26f46; stroke:none; fill-opacity:1\" cx=\"205.509\" cy=\"350.82\" r=\"3\"/>\n",
       "<circle clip-path=\"url(#clip9002)\" style=\"fill:#000000; stroke:none; fill-opacity:1\" cx=\"216.217\" cy=\"350.82\" r=\"4\"/>\n",
       "<circle clip-path=\"url(#clip9002)\" style=\"fill:#e26f46; stroke:none; fill-opacity:1\" cx=\"216.217\" cy=\"350.82\" r=\"3\"/>\n",
       "<circle clip-path=\"url(#clip9002)\" style=\"fill:#000000; stroke:none; fill-opacity:1\" cx=\"226.926\" cy=\"350.82\" r=\"4\"/>\n",
       "<circle clip-path=\"url(#clip9002)\" style=\"fill:#e26f46; stroke:none; fill-opacity:1\" cx=\"226.926\" cy=\"350.82\" r=\"3\"/>\n",
       "<circle clip-path=\"url(#clip9002)\" style=\"fill:#000000; stroke:none; fill-opacity:1\" cx=\"237.635\" cy=\"350.82\" r=\"4\"/>\n",
       "<circle clip-path=\"url(#clip9002)\" style=\"fill:#e26f46; stroke:none; fill-opacity:1\" cx=\"237.635\" cy=\"350.82\" r=\"3\"/>\n",
       "<circle clip-path=\"url(#clip9002)\" style=\"fill:#000000; stroke:none; fill-opacity:1\" cx=\"248.344\" cy=\"237.146\" r=\"4\"/>\n",
       "<circle clip-path=\"url(#clip9002)\" style=\"fill:#e26f46; stroke:none; fill-opacity:1\" cx=\"248.344\" cy=\"237.146\" r=\"3\"/>\n",
       "<circle clip-path=\"url(#clip9002)\" style=\"fill:#000000; stroke:none; fill-opacity:1\" cx=\"259.052\" cy=\"249.405\" r=\"4\"/>\n",
       "<circle clip-path=\"url(#clip9002)\" style=\"fill:#e26f46; stroke:none; fill-opacity:1\" cx=\"259.052\" cy=\"249.405\" r=\"3\"/>\n",
       "<circle clip-path=\"url(#clip9002)\" style=\"fill:#000000; stroke:none; fill-opacity:1\" cx=\"269.761\" cy=\"259.968\" r=\"4\"/>\n",
       "<circle clip-path=\"url(#clip9002)\" style=\"fill:#e26f46; stroke:none; fill-opacity:1\" cx=\"269.761\" cy=\"259.968\" r=\"3\"/>\n",
       "<circle clip-path=\"url(#clip9002)\" style=\"fill:#000000; stroke:none; fill-opacity:1\" cx=\"280.47\" cy=\"350.818\" r=\"4\"/>\n",
       "<circle clip-path=\"url(#clip9002)\" style=\"fill:#e26f46; stroke:none; fill-opacity:1\" cx=\"280.47\" cy=\"350.818\" r=\"3\"/>\n",
       "<circle clip-path=\"url(#clip9002)\" style=\"fill:#000000; stroke:none; fill-opacity:1\" cx=\"291.179\" cy=\"277.403\" r=\"4\"/>\n",
       "<circle clip-path=\"url(#clip9002)\" style=\"fill:#e26f46; stroke:none; fill-opacity:1\" cx=\"291.179\" cy=\"277.403\" r=\"3\"/>\n",
       "<circle clip-path=\"url(#clip9002)\" style=\"fill:#000000; stroke:none; fill-opacity:1\" cx=\"301.887\" cy=\"284.726\" r=\"4\"/>\n",
       "<circle clip-path=\"url(#clip9002)\" style=\"fill:#e26f46; stroke:none; fill-opacity:1\" cx=\"301.887\" cy=\"284.726\" r=\"3\"/>\n",
       "<circle clip-path=\"url(#clip9002)\" style=\"fill:#000000; stroke:none; fill-opacity:1\" cx=\"312.596\" cy=\"291.328\" r=\"4\"/>\n",
       "<circle clip-path=\"url(#clip9002)\" style=\"fill:#e26f46; stroke:none; fill-opacity:1\" cx=\"312.596\" cy=\"291.328\" r=\"3\"/>\n",
       "<circle clip-path=\"url(#clip9002)\" style=\"fill:#000000; stroke:none; fill-opacity:1\" cx=\"323.305\" cy=\"297.324\" r=\"4\"/>\n",
       "<circle clip-path=\"url(#clip9002)\" style=\"fill:#e26f46; stroke:none; fill-opacity:1\" cx=\"323.305\" cy=\"297.324\" r=\"3\"/>\n",
       "<circle clip-path=\"url(#clip9002)\" style=\"fill:#000000; stroke:none; fill-opacity:1\" cx=\"334.014\" cy=\"302.787\" r=\"4\"/>\n",
       "<circle clip-path=\"url(#clip9002)\" style=\"fill:#e26f46; stroke:none; fill-opacity:1\" cx=\"334.014\" cy=\"302.787\" r=\"3\"/>\n",
       "<circle clip-path=\"url(#clip9002)\" style=\"fill:#000000; stroke:none; fill-opacity:1\" cx=\"344.722\" cy=\"307.845\" r=\"4\"/>\n",
       "<circle clip-path=\"url(#clip9002)\" style=\"fill:#e26f46; stroke:none; fill-opacity:1\" cx=\"344.722\" cy=\"307.845\" r=\"3\"/>\n",
       "<circle clip-path=\"url(#clip9002)\" style=\"fill:#000000; stroke:none; fill-opacity:1\" cx=\"355.431\" cy=\"312.51\" r=\"4\"/>\n",
       "<circle clip-path=\"url(#clip9002)\" style=\"fill:#e26f46; stroke:none; fill-opacity:1\" cx=\"355.431\" cy=\"312.51\" r=\"3\"/>\n",
       "<circle clip-path=\"url(#clip9002)\" style=\"fill:#000000; stroke:none; fill-opacity:1\" cx=\"366.14\" cy=\"316.853\" r=\"4\"/>\n",
       "<circle clip-path=\"url(#clip9002)\" style=\"fill:#e26f46; stroke:none; fill-opacity:1\" cx=\"366.14\" cy=\"316.853\" r=\"3\"/>\n",
       "<circle clip-path=\"url(#clip9002)\" style=\"fill:#000000; stroke:none; fill-opacity:1\" cx=\"376.849\" cy=\"320.924\" r=\"4\"/>\n",
       "<circle clip-path=\"url(#clip9002)\" style=\"fill:#e26f46; stroke:none; fill-opacity:1\" cx=\"376.849\" cy=\"320.924\" r=\"3\"/>\n",
       "<circle clip-path=\"url(#clip9002)\" style=\"fill:#000000; stroke:none; fill-opacity:1\" cx=\"387.557\" cy=\"324.771\" r=\"4\"/>\n",
       "<circle clip-path=\"url(#clip9002)\" style=\"fill:#e26f46; stroke:none; fill-opacity:1\" cx=\"387.557\" cy=\"324.771\" r=\"3\"/>\n",
       "<circle clip-path=\"url(#clip9002)\" style=\"fill:#000000; stroke:none; fill-opacity:1\" cx=\"398.266\" cy=\"328.43\" r=\"4\"/>\n",
       "<circle clip-path=\"url(#clip9002)\" style=\"fill:#e26f46; stroke:none; fill-opacity:1\" cx=\"398.266\" cy=\"328.43\" r=\"3\"/>\n",
       "<circle clip-path=\"url(#clip9002)\" style=\"fill:#000000; stroke:none; fill-opacity:1\" cx=\"408.975\" cy=\"331.992\" r=\"4\"/>\n",
       "<circle clip-path=\"url(#clip9002)\" style=\"fill:#e26f46; stroke:none; fill-opacity:1\" cx=\"408.975\" cy=\"331.992\" r=\"3\"/>\n",
       "<circle clip-path=\"url(#clip9002)\" style=\"fill:#000000; stroke:none; fill-opacity:1\" cx=\"419.684\" cy=\"335.511\" r=\"4\"/>\n",
       "<circle clip-path=\"url(#clip9002)\" style=\"fill:#e26f46; stroke:none; fill-opacity:1\" cx=\"419.684\" cy=\"335.511\" r=\"3\"/>\n",
       "<circle clip-path=\"url(#clip9002)\" style=\"fill:#000000; stroke:none; fill-opacity:1\" cx=\"430.392\" cy=\"349.081\" r=\"4\"/>\n",
       "<circle clip-path=\"url(#clip9002)\" style=\"fill:#e26f46; stroke:none; fill-opacity:1\" cx=\"430.392\" cy=\"349.081\" r=\"3\"/>\n",
       "<circle clip-path=\"url(#clip9002)\" style=\"fill:#000000; stroke:none; fill-opacity:1\" cx=\"441.101\" cy=\"343.919\" r=\"4\"/>\n",
       "<circle clip-path=\"url(#clip9002)\" style=\"fill:#e26f46; stroke:none; fill-opacity:1\" cx=\"441.101\" cy=\"343.919\" r=\"3\"/>\n",
       "<circle clip-path=\"url(#clip9002)\" style=\"fill:#000000; stroke:none; fill-opacity:1\" cx=\"130.547\" cy=\"181.637\" r=\"4\"/>\n",
       "<circle clip-path=\"url(#clip9002)\" style=\"fill:#3da44d; stroke:none; fill-opacity:1\" cx=\"130.547\" cy=\"181.637\" r=\"3\"/>\n",
       "<circle clip-path=\"url(#clip9002)\" style=\"fill:#000000; stroke:none; fill-opacity:1\" cx=\"141.256\" cy=\"222.616\" r=\"4\"/>\n",
       "<circle clip-path=\"url(#clip9002)\" style=\"fill:#3da44d; stroke:none; fill-opacity:1\" cx=\"141.256\" cy=\"222.616\" r=\"3\"/>\n",
       "<circle clip-path=\"url(#clip9002)\" style=\"fill:#000000; stroke:none; fill-opacity:1\" cx=\"151.965\" cy=\"350.82\" r=\"4\"/>\n",
       "<circle clip-path=\"url(#clip9002)\" style=\"fill:#3da44d; stroke:none; fill-opacity:1\" cx=\"151.965\" cy=\"350.82\" r=\"3\"/>\n",
       "<circle clip-path=\"url(#clip9002)\" style=\"fill:#000000; stroke:none; fill-opacity:1\" cx=\"162.674\" cy=\"269.2\" r=\"4\"/>\n",
       "<circle clip-path=\"url(#clip9002)\" style=\"fill:#3da44d; stroke:none; fill-opacity:1\" cx=\"162.674\" cy=\"269.2\" r=\"3\"/>\n",
       "<circle clip-path=\"url(#clip9002)\" style=\"fill:#000000; stroke:none; fill-opacity:1\" cx=\"173.382\" cy=\"350.815\" r=\"4\"/>\n",
       "<circle clip-path=\"url(#clip9002)\" style=\"fill:#3da44d; stroke:none; fill-opacity:1\" cx=\"173.382\" cy=\"350.815\" r=\"3\"/>\n",
       "<circle clip-path=\"url(#clip9002)\" style=\"fill:#000000; stroke:none; fill-opacity:1\" cx=\"184.091\" cy=\"350.806\" r=\"4\"/>\n",
       "<circle clip-path=\"url(#clip9002)\" style=\"fill:#3da44d; stroke:none; fill-opacity:1\" cx=\"184.091\" cy=\"350.806\" r=\"3\"/>\n",
       "<circle clip-path=\"url(#clip9002)\" style=\"fill:#000000; stroke:none; fill-opacity:1\" cx=\"194.8\" cy=\"350.779\" r=\"4\"/>\n",
       "<circle clip-path=\"url(#clip9002)\" style=\"fill:#3da44d; stroke:none; fill-opacity:1\" cx=\"194.8\" cy=\"350.779\" r=\"3\"/>\n",
       "<circle clip-path=\"url(#clip9002)\" style=\"fill:#000000; stroke:none; fill-opacity:1\" cx=\"205.509\" cy=\"143.926\" r=\"4\"/>\n",
       "<circle clip-path=\"url(#clip9002)\" style=\"fill:#3da44d; stroke:none; fill-opacity:1\" cx=\"205.509\" cy=\"143.926\" r=\"3\"/>\n",
       "<circle clip-path=\"url(#clip9002)\" style=\"fill:#000000; stroke:none; fill-opacity:1\" cx=\"216.217\" cy=\"181.637\" r=\"4\"/>\n",
       "<circle clip-path=\"url(#clip9002)\" style=\"fill:#3da44d; stroke:none; fill-opacity:1\" cx=\"216.217\" cy=\"181.637\" r=\"3\"/>\n",
       "<circle clip-path=\"url(#clip9002)\" style=\"fill:#000000; stroke:none; fill-opacity:1\" cx=\"226.926\" cy=\"204.855\" r=\"4\"/>\n",
       "<circle clip-path=\"url(#clip9002)\" style=\"fill:#3da44d; stroke:none; fill-opacity:1\" cx=\"226.926\" cy=\"204.855\" r=\"3\"/>\n",
       "<circle clip-path=\"url(#clip9002)\" style=\"fill:#000000; stroke:none; fill-opacity:1\" cx=\"237.635\" cy=\"222.616\" r=\"4\"/>\n",
       "<circle clip-path=\"url(#clip9002)\" style=\"fill:#3da44d; stroke:none; fill-opacity:1\" cx=\"237.635\" cy=\"222.616\" r=\"3\"/>\n",
       "<circle clip-path=\"url(#clip9002)\" style=\"fill:#000000; stroke:none; fill-opacity:1\" cx=\"248.344\" cy=\"350.82\" r=\"4\"/>\n",
       "<circle clip-path=\"url(#clip9002)\" style=\"fill:#3da44d; stroke:none; fill-opacity:1\" cx=\"248.344\" cy=\"350.82\" r=\"3\"/>\n",
       "<circle clip-path=\"url(#clip9002)\" style=\"fill:#000000; stroke:none; fill-opacity:1\" cx=\"259.052\" cy=\"350.82\" r=\"4\"/>\n",
       "<circle clip-path=\"url(#clip9002)\" style=\"fill:#3da44d; stroke:none; fill-opacity:1\" cx=\"259.052\" cy=\"350.82\" r=\"3\"/>\n",
       "<circle clip-path=\"url(#clip9002)\" style=\"fill:#000000; stroke:none; fill-opacity:1\" cx=\"269.761\" cy=\"350.819\" r=\"4\"/>\n",
       "<circle clip-path=\"url(#clip9002)\" style=\"fill:#3da44d; stroke:none; fill-opacity:1\" cx=\"269.761\" cy=\"350.819\" r=\"3\"/>\n",
       "<circle clip-path=\"url(#clip9002)\" style=\"fill:#000000; stroke:none; fill-opacity:1\" cx=\"280.47\" cy=\"269.2\" r=\"4\"/>\n",
       "<circle clip-path=\"url(#clip9002)\" style=\"fill:#3da44d; stroke:none; fill-opacity:1\" cx=\"280.47\" cy=\"269.2\" r=\"3\"/>\n",
       "<circle clip-path=\"url(#clip9002)\" style=\"fill:#000000; stroke:none; fill-opacity:1\" cx=\"291.179\" cy=\"350.817\" r=\"4\"/>\n",
       "<circle clip-path=\"url(#clip9002)\" style=\"fill:#3da44d; stroke:none; fill-opacity:1\" cx=\"291.179\" cy=\"350.817\" r=\"3\"/>\n",
       "<circle clip-path=\"url(#clip9002)\" style=\"fill:#000000; stroke:none; fill-opacity:1\" cx=\"301.887\" cy=\"350.815\" r=\"4\"/>\n",
       "<circle clip-path=\"url(#clip9002)\" style=\"fill:#3da44d; stroke:none; fill-opacity:1\" cx=\"301.887\" cy=\"350.815\" r=\"3\"/>\n",
       "<circle clip-path=\"url(#clip9002)\" style=\"fill:#000000; stroke:none; fill-opacity:1\" cx=\"312.596\" cy=\"350.811\" r=\"4\"/>\n",
       "<circle clip-path=\"url(#clip9002)\" style=\"fill:#3da44d; stroke:none; fill-opacity:1\" cx=\"312.596\" cy=\"350.811\" r=\"3\"/>\n",
       "<circle clip-path=\"url(#clip9002)\" style=\"fill:#000000; stroke:none; fill-opacity:1\" cx=\"323.305\" cy=\"350.806\" r=\"4\"/>\n",
       "<circle clip-path=\"url(#clip9002)\" style=\"fill:#3da44d; stroke:none; fill-opacity:1\" cx=\"323.305\" cy=\"350.806\" r=\"3\"/>\n",
       "<circle clip-path=\"url(#clip9002)\" style=\"fill:#000000; stroke:none; fill-opacity:1\" cx=\"334.014\" cy=\"350.796\" r=\"4\"/>\n",
       "<circle clip-path=\"url(#clip9002)\" style=\"fill:#3da44d; stroke:none; fill-opacity:1\" cx=\"334.014\" cy=\"350.796\" r=\"3\"/>\n",
       "<circle clip-path=\"url(#clip9002)\" style=\"fill:#000000; stroke:none; fill-opacity:1\" cx=\"344.722\" cy=\"350.779\" r=\"4\"/>\n",
       "<circle clip-path=\"url(#clip9002)\" style=\"fill:#3da44d; stroke:none; fill-opacity:1\" cx=\"344.722\" cy=\"350.779\" r=\"3\"/>\n",
       "<circle clip-path=\"url(#clip9002)\" style=\"fill:#000000; stroke:none; fill-opacity:1\" cx=\"355.431\" cy=\"350.754\" r=\"4\"/>\n",
       "<circle clip-path=\"url(#clip9002)\" style=\"fill:#3da44d; stroke:none; fill-opacity:1\" cx=\"355.431\" cy=\"350.754\" r=\"3\"/>\n",
       "<circle clip-path=\"url(#clip9002)\" style=\"fill:#000000; stroke:none; fill-opacity:1\" cx=\"366.14\" cy=\"350.713\" r=\"4\"/>\n",
       "<circle clip-path=\"url(#clip9002)\" style=\"fill:#3da44d; stroke:none; fill-opacity:1\" cx=\"366.14\" cy=\"350.713\" r=\"3\"/>\n",
       "<circle clip-path=\"url(#clip9002)\" style=\"fill:#000000; stroke:none; fill-opacity:1\" cx=\"376.849\" cy=\"350.65\" r=\"4\"/>\n",
       "<circle clip-path=\"url(#clip9002)\" style=\"fill:#3da44d; stroke:none; fill-opacity:1\" cx=\"376.849\" cy=\"350.65\" r=\"3\"/>\n",
       "<circle clip-path=\"url(#clip9002)\" style=\"fill:#000000; stroke:none; fill-opacity:1\" cx=\"387.557\" cy=\"350.553\" r=\"4\"/>\n",
       "<circle clip-path=\"url(#clip9002)\" style=\"fill:#3da44d; stroke:none; fill-opacity:1\" cx=\"387.557\" cy=\"350.553\" r=\"3\"/>\n",
       "<circle clip-path=\"url(#clip9002)\" style=\"fill:#000000; stroke:none; fill-opacity:1\" cx=\"398.266\" cy=\"350.402\" r=\"4\"/>\n",
       "<circle clip-path=\"url(#clip9002)\" style=\"fill:#3da44d; stroke:none; fill-opacity:1\" cx=\"398.266\" cy=\"350.402\" r=\"3\"/>\n",
       "<circle clip-path=\"url(#clip9002)\" style=\"fill:#000000; stroke:none; fill-opacity:1\" cx=\"408.975\" cy=\"350.166\" r=\"4\"/>\n",
       "<circle clip-path=\"url(#clip9002)\" style=\"fill:#3da44d; stroke:none; fill-opacity:1\" cx=\"408.975\" cy=\"350.166\" r=\"3\"/>\n",
       "<circle clip-path=\"url(#clip9002)\" style=\"fill:#000000; stroke:none; fill-opacity:1\" cx=\"419.684\" cy=\"349.779\" r=\"4\"/>\n",
       "<circle clip-path=\"url(#clip9002)\" style=\"fill:#3da44d; stroke:none; fill-opacity:1\" cx=\"419.684\" cy=\"349.779\" r=\"3\"/>\n",
       "<circle clip-path=\"url(#clip9002)\" style=\"fill:#000000; stroke:none; fill-opacity:1\" cx=\"430.392\" cy=\"339.163\" r=\"4\"/>\n",
       "<circle clip-path=\"url(#clip9002)\" style=\"fill:#3da44d; stroke:none; fill-opacity:1\" cx=\"430.392\" cy=\"339.163\" r=\"3\"/>\n",
       "<circle clip-path=\"url(#clip9002)\" style=\"fill:#000000; stroke:none; fill-opacity:1\" cx=\"441.101\" cy=\"347.141\" r=\"4\"/>\n",
       "<circle clip-path=\"url(#clip9002)\" style=\"fill:#3da44d; stroke:none; fill-opacity:1\" cx=\"441.101\" cy=\"347.141\" r=\"3\"/>\n",
       "<polygon clip-path=\"url(#clip9000)\" points=\"\n",
       "489.608,112.856 562.315,112.856 562.315,52.3761 489.608,52.3761 \n",
       "  \" fill=\"#ffffff\" fill-opacity=\"1\"/>\n",
       "<polyline clip-path=\"url(#clip9000)\" style=\"stroke:#000000; stroke-width:1; stroke-opacity:1; fill:none\" points=\"\n",
       "  489.608,112.856 562.315,112.856 562.315,52.3761 489.608,52.3761 489.608,112.856 \n",
       "  \"/>\n",
       "<circle clip-path=\"url(#clip9000)\" style=\"fill:#000000; stroke:none; fill-opacity:1\" cx=\"516.608\" cy=\"67.4961\" r=\"6\"/>\n",
       "<circle clip-path=\"url(#clip9000)\" style=\"fill:#009af9; stroke:none; fill-opacity:1\" cx=\"516.608\" cy=\"67.4961\" r=\"5\"/>\n",
       "<g clip-path=\"url(#clip9000)\">\n",
       "<text style=\"fill:#000000; fill-opacity:1; font-family:Arial,Helvetica Neue,Helvetica,sans-serif; font-size:12; text-anchor:start;\" transform=\"rotate(0, 537.608, 71.9961)\" x=\"537.608\" y=\"71.9961\">y1</text>\n",
       "</g>\n",
       "<circle clip-path=\"url(#clip9000)\" style=\"fill:#000000; stroke:none; fill-opacity:1\" cx=\"516.608\" cy=\"82.6161\" r=\"6\"/>\n",
       "<circle clip-path=\"url(#clip9000)\" style=\"fill:#e26f46; stroke:none; fill-opacity:1\" cx=\"516.608\" cy=\"82.6161\" r=\"5\"/>\n",
       "<g clip-path=\"url(#clip9000)\">\n",
       "<text style=\"fill:#000000; fill-opacity:1; font-family:Arial,Helvetica Neue,Helvetica,sans-serif; font-size:12; text-anchor:start;\" transform=\"rotate(0, 537.608, 87.1161)\" x=\"537.608\" y=\"87.1161\">y2</text>\n",
       "</g>\n",
       "<circle clip-path=\"url(#clip9000)\" style=\"fill:#000000; stroke:none; fill-opacity:1\" cx=\"516.608\" cy=\"97.7361\" r=\"6\"/>\n",
       "<circle clip-path=\"url(#clip9000)\" style=\"fill:#3da44d; stroke:none; fill-opacity:1\" cx=\"516.608\" cy=\"97.7361\" r=\"5\"/>\n",
       "<g clip-path=\"url(#clip9000)\">\n",
       "<text style=\"fill:#000000; fill-opacity:1; font-family:Arial,Helvetica Neue,Helvetica,sans-serif; font-size:12; text-anchor:start;\" transform=\"rotate(0, 537.608, 102.236)\" x=\"537.608\" y=\"102.236\">y3</text>\n",
       "</g>\n",
       "</svg>\n"
      ]
     },
     "execution_count": 15,
     "metadata": {},
     "output_type": "execute_result"
    }
   ],
   "source": [
    "# first, create a vector with the bifurcation parameter values tested in the previous step\n",
    "vvect=collect(0:0.005:1);\n",
    "\n",
    "# we are ready to plot now:\n",
    "scatter(vvect, y1_matrix[1,:])\n",
    "scatter!(vvect, y1_matrix[2,:])\n",
    "scatter!(vvect, y1_matrix[3,:])\n",
    "\n",
    "#just fixing the labels and stuff\n",
    "plot!(xlabel=\"v bifurcaton parameter\")\n",
    "plot!(ylabel=\"yss\")\n",
    "plot!(title=\"Findig roots of Angeli function using Sanders' box method\")\n",
    "plot!(xlims=(0,.25),xticks=0:.1:.25)"
   ]
  },
  {
   "cell_type": "code",
   "execution_count": null,
   "metadata": {},
   "outputs": [],
   "source": []
  },
  {
   "cell_type": "code",
   "execution_count": null,
   "metadata": {},
   "outputs": [],
   "source": []
  },
  {
   "cell_type": "code",
   "execution_count": null,
   "metadata": {},
   "outputs": [],
   "source": []
  },
  {
   "cell_type": "code",
   "execution_count": null,
   "metadata": {},
   "outputs": [],
   "source": []
  },
  {
   "cell_type": "code",
   "execution_count": null,
   "metadata": {},
   "outputs": [],
   "source": []
  },
  {
   "cell_type": "markdown",
   "metadata": {},
   "source": []
  },
  {
   "cell_type": "code",
   "execution_count": null,
   "metadata": {},
   "outputs": [],
   "source": []
  },
  {
   "cell_type": "code",
   "execution_count": null,
   "metadata": {},
   "outputs": [],
   "source": []
  },
  {
   "cell_type": "code",
   "execution_count": null,
   "metadata": {},
   "outputs": [],
   "source": []
  },
  {
   "cell_type": "code",
   "execution_count": null,
   "metadata": {},
   "outputs": [],
   "source": []
  },
  {
   "cell_type": "markdown",
   "metadata": {},
   "source": []
  },
  {
   "cell_type": "code",
   "execution_count": null,
   "metadata": {},
   "outputs": [],
   "source": [
    "\n"
   ]
  },
  {
   "cell_type": "code",
   "execution_count": null,
   "metadata": {},
   "outputs": [],
   "source": []
  },
  {
   "cell_type": "code",
   "execution_count": null,
   "metadata": {},
   "outputs": [],
   "source": []
  },
  {
   "cell_type": "code",
   "execution_count": null,
   "metadata": {},
   "outputs": [],
   "source": []
  },
  {
   "cell_type": "code",
   "execution_count": null,
   "metadata": {},
   "outputs": [],
   "source": []
  },
  {
   "cell_type": "code",
   "execution_count": null,
   "metadata": {},
   "outputs": [],
   "source": []
  },
  {
   "cell_type": "code",
   "execution_count": null,
   "metadata": {},
   "outputs": [],
   "source": []
  },
  {
   "cell_type": "code",
   "execution_count": null,
   "metadata": {},
   "outputs": [],
   "source": []
  },
  {
   "cell_type": "code",
   "execution_count": null,
   "metadata": {},
   "outputs": [],
   "source": []
  },
  {
   "cell_type": "code",
   "execution_count": null,
   "metadata": {},
   "outputs": [],
   "source": [
    "\n"
   ]
  },
  {
   "cell_type": "code",
   "execution_count": null,
   "metadata": {},
   "outputs": [],
   "source": []
  },
  {
   "cell_type": "code",
   "execution_count": null,
   "metadata": {},
   "outputs": [],
   "source": []
  },
  {
   "cell_type": "code",
   "execution_count": null,
   "metadata": {},
   "outputs": [],
   "source": []
  },
  {
   "cell_type": "code",
   "execution_count": null,
   "metadata": {},
   "outputs": [],
   "source": []
  },
  {
   "cell_type": "code",
   "execution_count": null,
   "metadata": {},
   "outputs": [],
   "source": []
  },
  {
   "cell_type": "code",
   "execution_count": null,
   "metadata": {},
   "outputs": [],
   "source": []
  },
  {
   "cell_type": "code",
   "execution_count": null,
   "metadata": {},
   "outputs": [],
   "source": []
  },
  {
   "cell_type": "code",
   "execution_count": null,
   "metadata": {},
   "outputs": [],
   "source": []
  }
 ],
 "metadata": {
  "kernelspec": {
   "display_name": "Julia 0.6.3",
   "language": "julia",
   "name": "julia-0.6"
  },
  "language_info": {
   "file_extension": ".jl",
   "mimetype": "application/julia",
   "name": "julia",
   "version": "0.6.3"
  }
 },
 "nbformat": 4,
 "nbformat_minor": 2
}
